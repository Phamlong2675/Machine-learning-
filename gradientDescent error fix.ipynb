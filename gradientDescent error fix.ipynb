{
 "cells": [
  {
   "cell_type": "code",
   "execution_count": 1,
   "id": "831ffd3f",
   "metadata": {},
   "outputs": [],
   "source": [
    "import numpy as np"
   ]
  },
  {
   "cell_type": "markdown",
   "id": "c9e5262b",
   "metadata": {},
   "source": [
    "The initial Code:"
   ]
  },
  {
   "cell_type": "code",
   "execution_count": 2,
   "id": "c71e110e",
   "metadata": {},
   "outputs": [],
   "source": [
    "def sigmoid(z):\n",
    "    return 1 / (1 + np.exp(-z))"
   ]
  },
  {
   "cell_type": "code",
   "execution_count": 3,
   "id": "8b90b900",
   "metadata": {},
   "outputs": [],
   "source": [
    "def gradientDescent(X, Y, theta, alpha, num_iters):\n",
    "    '''\n",
    "    Input:\n",
    "        x: matrix of features which is (m,n+1)\n",
    "        y: corresponding labels of the input matrix x, dimensions (m,1)\n",
    "        theta: weight vector of dimension (n+1,1)\n",
    "        alpha: learning rate\n",
    "        num_iters: number of iterations you want to train your model for\n",
    "    Output:\n",
    "        theta: your final weight vector\n",
    "        J: the final cost\n",
    "    '''\n",
    "    # get 'm', the number of rows in matrix X\n",
    "    m = len(X)\n",
    "\n",
    "    for _ in range(0, num_iters):\n",
    "        \n",
    "        # get z, the dot product of x and theta\n",
    "        z = np.dot(X, theta)\n",
    "        \n",
    "        # get the sigmoid of z\n",
    "        h = sigmoid(z)\n",
    "\n",
    "        # gradient\n",
    "        gradient = (1/float(m)) * np.dot(X.T, (h - Y))\n",
    "\n",
    "        # update the weights theta\n",
    "        theta = theta - alpha *gradient\n",
    "\n",
    "        # calculate J\n",
    "        J = - (np.dot(Y.T, np.log(h)) + np.dot((1-Y).T, np.log(1-h))) / float(m)\n",
    "        J = float(J)\n",
    "        \n",
    "    return theta,J \n",
    "\n"
   ]
  },
  {
   "cell_type": "markdown",
   "id": "be371613",
   "metadata": {},
   "source": [
    "# Errors:\n",
    "\n",
    "- When coputing the loss function:\n",
    "\n",
    "    J = - (np.dot(Y.T, np.log(h)) + np.dot((1-Y).T, np.log(1-h))) / m\n",
    "\n",
    "    → If h becomes exactly 0 or 1, log(0) → -inf (not strictly divide-by-zero, but numerical error).\n",
    "\n",
    "- The loop always runs num_iters times. If gradient becomes ~0 early, you’re wasting compute.\n",
    "- Sigmoid can get overflow if z is extreme negative\n",
    "\n",
    "    "
   ]
  },
  {
   "cell_type": "markdown",
   "id": "3ded800b",
   "metadata": {},
   "source": [
    "# Solutions:\n",
    "\n",
    "- avoid divide-by-zero error --> add epsilon\n",
    "\n",
    "    eps = 1e-12\n",
    "        J = - (np.dot(Y.T, np.log(h + eps)) + np.dot((1-Y).T, np.log(1-h + eps))) / len(X)\n",
    "\n",
    "- stop when gradient norm is tiny:\n",
    "\n",
    "    if np.linalg.norm(gradient) < tol:\n",
    "        break\n",
    "\n",
    "- More robust / numerically stable: avoid log(sigmoid) entirely\n",
    "\n",
    "    z = X.dot(theta)\n",
    "    z = np.clip(z, -500, 500)         # optional: protect np.exp from overflow\n",
    "    J = np.mean(np.maximum(z, 0) - z * Y + np.log(1 + np.exp(-np.abs(z))))\n",
    "\n",
    "-->This formula does not compute log(h) or log(1-h) directly and is stable for extreme z."
   ]
  },
  {
   "cell_type": "code",
   "execution_count": 4,
   "id": "9d027364",
   "metadata": {},
   "outputs": [],
   "source": [
    "import numpy as np\n",
    "\n",
    "def sigmoid(z):\n",
    "    z = np.clip(z, -500, 500)   # tránh overflow\n",
    "    return 1 / (1 + np.exp(-z))\n",
    "\n",
    "def gradientDescent(X, Y, theta, alpha, num_iters, tol=1e-6, eps=1e-15):\n",
    "    m = X.shape[0]\n",
    "\n",
    "    for _ in range(num_iters):\n",
    "        z = np.dot(X,theta)\n",
    "        h = sigmoid(z)\n",
    "\n",
    "        # gradient\n",
    "        gradient = (X.T @ (h - Y)) / m\n",
    "\n",
    "        if np.linalg.norm(gradient) < tol:  # early stopping\n",
    "            break\n",
    "\n",
    "        theta -= alpha * gradient\n",
    "\n",
    "    # cost cuối cùng (công thức cũ có epsilon)\n",
    "    J = - (np.dot(Y.T, np.log(h + eps)) + np.dot((1 - Y).T, np.log(1 - h + eps))) / m\n",
    "\n",
    "    return theta, float(J)\n"
   ]
  }
 ],
 "metadata": {
  "kernelspec": {
   "display_name": "base",
   "language": "python",
   "name": "python3"
  },
  "language_info": {
   "codemirror_mode": {
    "name": "ipython",
    "version": 3
   },
   "file_extension": ".py",
   "mimetype": "text/x-python",
   "name": "python",
   "nbconvert_exporter": "python",
   "pygments_lexer": "ipython3",
   "version": "3.12.4"
  }
 },
 "nbformat": 4,
 "nbformat_minor": 5
}
