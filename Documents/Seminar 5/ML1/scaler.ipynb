{
 "cells": [
  {
   "cell_type": "code",
   "execution_count": 3,
   "id": "8ad4b307",
   "metadata": {},
   "outputs": [],
   "source": [
    "import numpy as np\n",
    "from sklearn.datasets import load_iris\n",
    "from sklearn.model_selection import cross_val_score, StratifiedKFold\n",
    "from sklearn.pipeline import Pipeline\n",
    "from sklearn.preprocessing import MinMaxScaler, StandardScaler, RobustScaler\n",
    "from sklearn.neighbors import KNeighborsClassifier\n",
    "from sklearn.ensemble import RandomForestClassifier"
   ]
  },
  {
   "cell_type": "code",
   "execution_count": 4,
   "id": "ffc925ad",
   "metadata": {},
   "outputs": [],
   "source": [
    "X, y = load_iris(return_X_y=True)\n",
    "# Chia dữ liệu thành 5 phần, giữ tỷ lệ class cân bằng.\n",
    "cv = StratifiedKFold(n_splits=5, shuffle=True, random_state=42)\n",
    "\n",
    "scalers = {\n",
    "    \"No Scaler\": None,\n",
    "    \"MinMax\": MinMaxScaler(),\n",
    "    \"Standard\": StandardScaler(),\n",
    "    \"Robust\": RobustScaler()\n",
    "}"
   ]
  },
  {
   "cell_type": "code",
   "execution_count": 5,
   "id": "93f81528",
   "metadata": {},
   "outputs": [],
   "source": [
    "def evaluate_model(clf):\n",
    "    results = {}\n",
    "    for name, scaler in scalers.items():\n",
    "        steps = []\n",
    "        if scaler is not None:\n",
    "            steps.append((\"scaler\", scaler))\n",
    "        steps.append((\"clf\", clf))\n",
    "        pipe = Pipeline(steps)\n",
    "        scores = cross_val_score(pipe, X, y, cv=cv, scoring=\"accuracy\", n_jobs=-1)\n",
    "        results[name] = (scores.mean(), scores.std())\n",
    "    return results\n"
   ]
  },
  {
   "cell_type": "code",
   "execution_count": 6,
   "id": "545e7823",
   "metadata": {},
   "outputs": [
    {
     "name": "stdout",
     "output_type": "stream",
     "text": [
      "KNN results:\n",
      "No Scaler: 0.9667 ± 0.0298\n",
      "MinMax: 0.9600 ± 0.0389\n",
      "Standard: 0.9733 ± 0.0249\n",
      "Robust: 0.9200 ± 0.0618\n",
      "\n",
      "RandomForest results:\n",
      "No Scaler: 0.9467 ± 0.0267\n",
      "MinMax: 0.9467 ± 0.0267\n",
      "Standard: 0.9467 ± 0.0267\n",
      "Robust: 0.9467 ± 0.0267\n"
     ]
    }
   ],
   "source": [
    "#Chạy mô hình KNN và RandomForest\n",
    "print(\"KNN results:\")\n",
    "knn_results = evaluate_model(KNeighborsClassifier(n_neighbors=5))\n",
    "for k, (m, s) in knn_results.items():\n",
    "    print(f\"{k}: {m:.4f} ± {s:.4f}\")\n",
    "\n",
    "print(\"\\nRandomForest results:\")\n",
    "rf_results = evaluate_model(RandomForestClassifier(n_estimators=100, random_state=42))\n",
    "for k, (m, s) in rf_results.items():\n",
    "    print(f\"{k}: {m:.4f} ± {s:.4f}\")"
   ]
  }
 ],
 "metadata": {
  "kernelspec": {
   "display_name": "Python 3",
   "language": "python",
   "name": "python3"
  },
  "language_info": {
   "codemirror_mode": {
    "name": "ipython",
    "version": 3
   },
   "file_extension": ".py",
   "mimetype": "text/x-python",
   "name": "python",
   "nbconvert_exporter": "python",
   "pygments_lexer": "ipython3",
   "version": "3.9.6"
  }
 },
 "nbformat": 4,
 "nbformat_minor": 5
}
