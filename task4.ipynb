{
 "cells": [
  {
   "cell_type": "code",
   "execution_count": null,
   "id": "189401f9",
   "metadata": {},
   "outputs": [],
   "source": [
    "from sklearn.preprocessing import MinMaxScaler, StandardScaler, RobustScaler\n",
    "\n",
    "scalers = {\n",
    "    \"No Scaler\": None,\n",
    "    \"MinMax\": MinMaxScaler(),\n",
    "    \"Standard\": StandardScaler(),\n",
    "    \"Robust\": RobustScaler()\n",
    "}\n",
    "\n",
    "for name, scaler in scalers.items():\n",
    "    if scaler:\n",
    "        X_scaled = scaler.fit_transform(X)\n",
    "    else:\n",
    "        X_scaled = X\n",
    "    \n",
    "    clf = LogisticRegression(max_iter=1000)\n",
    "    clf.fit(X_scaled, Y.ravel())\n",
    "    y_pred = clf.predict(X_scaled)\n",
    "    precision = precision_score(Y, y_pred)\n",
    "    print(f\"{name}: Precision = {precision:.4f}\")\n"
   ]
  }
 ],
 "metadata": {
  "language_info": {
   "name": "python"
  }
 },
 "nbformat": 4,
 "nbformat_minor": 5
}
