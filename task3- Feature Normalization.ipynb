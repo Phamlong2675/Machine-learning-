{
 "cells": [
  {
   "cell_type": "code",
   "execution_count": null,
   "id": "31992731",
   "metadata": {},
   "outputs": [],
   "source": []
  },
  {
   "cell_type": "code",
   "execution_count": 27,
   "id": "74b2020b",
   "metadata": {},
   "outputs": [
    {
     "name": "stdout",
     "output_type": "stream",
     "text": [
      "Sklearn Logistic Regression with Normalized Features: Precision = 0.9087, Time = 0.0129 seconds\n",
      "----- Comparison -----\n",
      "Custom Logistic Regression (Raw counts): Precision = 0.9945, Time = 0.3956 seconds\n",
      "Sklearn Logistic Regression (Raw counts): Precision = 0.9845, Time = 0.0396 seconds\n",
      "Sklearn Logistic Regression (Normalized): Precision = 0.9087, Time = 0.0129 seconds\n"
     ]
    }
   ],
   "source": [
    "\n",
    "import numpy as np\n",
    "from sklearn.linear_model import LogisticRegression\n",
    "from sklearn.metrics import precision_score\n",
    "import time\n",
    "\n",
    "def extract_features_normalized(tweet, freqs, train_size):\n",
    "    word_l = process_tweet(tweet)\n",
    "    x = np.zeros((1, 3))\n",
    "    x[0,0] = 1  # bias term\n",
    "    for word in word_l:\n",
    "        x[0,1] += freqs.get((word,1.0), 0)  # pos_count\n",
    "        x[0,2] += freqs.get((word,0.0), 0)  # neg_count\n",
    "    \n",
    "    sentence_length = max(1, len(word_l))   # tránh chia 0\n",
    "    N = train_size * sentence_length\n",
    "    x[0,1] = x[0,1] / N\n",
    "    x[0,2] = x[0,2] / N\n",
    "    return x\n",
    "\n",
    "train_size = len(train_x)\n",
    "X_norm = np.zeros((len(train_x), 3))\n",
    "for i in range(len(train_x)):\n",
    "    X_norm[i, :] = extract_features_normalized(train_x[i], freqs, train_size)\n",
    "Y = train_y\n",
    "\n",
    "start_time = time.time()\n",
    "clf_norm = LogisticRegression(max_iter=1000)\n",
    "clf_norm.fit(X_norm, Y.ravel())\n",
    "y_pred_norm = clf_norm.predict(X_norm)\n",
    "precision_norm = precision_score(Y, y_pred_norm)\n",
    "time_norm = time.time() - start_time\n",
    "\n",
    "print(f\"Sklearn Logistic Regression with Normalized Features: Precision = {precision_norm:.4f}, Time = {time_norm:.4f} seconds\")\n",
    "\n",
    "print(\"----- Comparison -----\")\n",
    "print(f\"Custom Logistic Regression (Raw counts): Precision = {precision_custom:.4f}, Time = {time_custom:.4f} seconds\")\n",
    "print(f\"Sklearn Logistic Regression (Raw counts): Precision = {precision_sklearn:.4f}, Time = {time_sklearn:.4f} seconds\")\n",
    "print(f\"Sklearn Logistic Regression (Normalized): Precision = {precision_norm:.4f}, Time = {time_norm:.4f} seconds\")\n"
   ]
  }
 ],
 "metadata": {
  "kernelspec": {
   "display_name": "Python 3",
   "language": "python",
   "name": "python3"
  },
  "language_info": {
   "codemirror_mode": {
    "name": "ipython",
    "version": 3
   },
   "file_extension": ".py",
   "mimetype": "text/x-python",
   "name": "python",
   "nbconvert_exporter": "python",
   "pygments_lexer": "ipython3",
   "version": "3.9.6"
  }
 },
 "nbformat": 4,
 "nbformat_minor": 5
}
