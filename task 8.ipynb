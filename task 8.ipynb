{
 "cells": [
  {
   "cell_type": "code",
   "execution_count": 1,
   "id": "456b4d6a",
   "metadata": {},
   "outputs": [],
   "source": [
    "import nltk\n",
    "import pandas as pd\n",
    "import numpy as np\n",
    "from sklearn.feature_extraction.text import CountVectorizer\n",
    "from sklearn.tree import DecisionTreeClassifier\n"
   ]
  },
  {
   "cell_type": "code",
   "execution_count": 2,
   "id": "bea0fcc4",
   "metadata": {},
   "outputs": [
    {
     "name": "stderr",
     "output_type": "stream",
     "text": [
      "[nltk_data] Downloading package twitter_samples to\n",
      "[nltk_data]     C:\\Users\\tuann\\AppData\\Roaming\\nltk_data...\n",
      "[nltk_data]   Package twitter_samples is already up-to-date!\n"
     ]
    },
    {
     "data": {
      "text/plain": [
       "True"
      ]
     },
     "execution_count": 2,
     "metadata": {},
     "output_type": "execute_result"
    }
   ],
   "source": [
    "nltk.download('twitter_samples')"
   ]
  },
  {
   "cell_type": "code",
   "execution_count": 3,
   "id": "a5da80b3",
   "metadata": {},
   "outputs": [],
   "source": [
    "positive_tweets = nltk.corpus.twitter_samples.strings('positive_tweets.json')\n",
    "negative_tweets = nltk.corpus.twitter_samples.strings('negative_tweets.json')\n",
    "\n",
    "training_tweets = positive_tweets[:100] + negative_tweets[:100]\n",
    "test_tweets = positive_tweets[100:200] + negative_tweets[100:200]"
   ]
  },
  {
   "cell_type": "code",
   "execution_count": null,
   "id": "9de6bd8f",
   "metadata": {},
   "outputs": [],
   "source": [
    "with open(\"train.csv\", \"w\", encoding=\"utf-8\") as f:\n",
    "    f.write(\"text,label\\n\")\n",
    "    for tweet in training_tweets:\n",
    "        label = \"positive\" if tweet in positive_tweets else \"negative\"\n",
    "        f.write(f\"\\\"{tweet}\\\",{label}\\n\")\n",
    "\n",
    "with open(\"test.csv\", \"w\", encoding=\"utf-8\") as f:\n",
    "    f.write(\"text,label\\n\")\n",
    "    for tweet in test_tweets:\n",
    "        f.write(f\"\\\"{tweet}\\\",\\n\")   "
   ]
  },
  {
   "cell_type": "code",
   "execution_count": 5,
   "id": "28e00b27",
   "metadata": {},
   "outputs": [
    {
     "data": {
      "text/plain": [
       "array([0, 0, 0, 0, 1, 1, 0, 1, 1, 1, 0, 0, 0, 1, 1, 1, 1, 1, 1, 0, 1, 1,\n",
       "       0, 0, 1, 1, 0, 1, 0, 0, 0, 0, 0, 0, 1, 1, 0, 0, 0, 0, 0, 0, 0, 0,\n",
       "       0, 0, 0, 1, 1, 0, 0, 0, 0, 1, 1, 1, 0, 0, 1, 0, 0, 0, 1, 0, 1, 0,\n",
       "       0, 1, 0, 0, 0, 1, 1, 1, 1, 1, 0, 0, 1, 1, 0, 1, 1, 1, 1, 1, 1, 1,\n",
       "       1, 1, 0, 1, 0, 0, 1, 1, 0, 0, 0, 0, 0, 0, 1, 0, 0, 0, 0, 0, 0, 0,\n",
       "       0, 0, 0, 0, 1, 0, 0, 0, 0, 0, 1, 0, 0, 0, 0, 0, 0, 0, 0, 0, 0, 0,\n",
       "       0, 0, 0, 0, 0, 0, 0, 0, 0, 0, 0, 0, 0, 0, 0, 0, 0, 0, 0, 0, 0, 0,\n",
       "       0, 0, 0, 0, 0, 0, 0, 0, 0, 1, 0, 1, 0, 0, 0, 1, 0, 0, 0, 0, 1, 0,\n",
       "       0, 0, 0, 0, 0, 1, 0, 0, 0, 1, 0, 0, 1, 0, 0, 0, 0, 0, 0, 1, 0, 0,\n",
       "       0, 0])"
      ]
     },
     "execution_count": 5,
     "metadata": {},
     "output_type": "execute_result"
    }
   ],
   "source": [
    "\n",
    "train_labels = [1]*100 + [0]*100   # 1 = positive, 0 = negative\n",
    "test_labels = [1]*100 + [0]*100\n",
    "\n",
    "# Vector hóa dữ liệu text → bag-of-words\n",
    "vectorizer = CountVectorizer(stop_words='english')\n",
    "X_train = vectorizer.fit_transform(training_tweets)\n",
    "X_test = vectorizer.transform(test_tweets)\n",
    "\n",
    "# Huấn luyện Decision Tree\n",
    "clf = DecisionTreeClassifier(random_state=42)\n",
    "clf.fit(X_train, train_labels)\n",
    "\n",
    "# Dự đoán\n",
    "y_pred = clf.predict(X_test)\n",
    "\n",
    "y_pred\n"
   ]
  },
  {
   "cell_type": "markdown",
   "id": "282ad07f",
   "metadata": {},
   "source": [
    "# ChatGPT Responses:\n"
   ]
  },
  {
   "cell_type": "code",
   "execution_count": 6,
   "id": "2f517e8f",
   "metadata": {},
   "outputs": [
    {
     "data": {
      "text/html": [
       "<div>\n",
       "<style scoped>\n",
       "    .dataframe tbody tr th:only-of-type {\n",
       "        vertical-align: middle;\n",
       "    }\n",
       "\n",
       "    .dataframe tbody tr th {\n",
       "        vertical-align: top;\n",
       "    }\n",
       "\n",
       "    .dataframe thead th {\n",
       "        text-align: right;\n",
       "    }\n",
       "</style>\n",
       "<table border=\"1\" class=\"dataframe\">\n",
       "  <thead>\n",
       "    <tr style=\"text-align: right;\">\n",
       "      <th></th>\n",
       "      <th>text</th>\n",
       "      <th>label</th>\n",
       "    </tr>\n",
       "  </thead>\n",
       "  <tbody>\n",
       "    <tr>\n",
       "      <th>0</th>\n",
       "      <td>@metalgear_jp @Kojima_Hideo I want you're T-sh...</td>\n",
       "      <td>negative</td>\n",
       "    </tr>\n",
       "    <tr>\n",
       "      <th>1</th>\n",
       "      <td>@AxeRade haw phela if am not looking like Mom ...</td>\n",
       "      <td>negative</td>\n",
       "    </tr>\n",
       "    <tr>\n",
       "      <th>2</th>\n",
       "      <td>@zaynmalik prince charming on stage :) x https...</td>\n",
       "      <td>negative</td>\n",
       "    </tr>\n",
       "    <tr>\n",
       "      <th>3</th>\n",
       "      <td>i have really good luck :)</td>\n",
       "      <td>negative</td>\n",
       "    </tr>\n",
       "    <tr>\n",
       "      <th>4</th>\n",
       "      <td>Stats for the day have arrived. 1 new follower...</td>\n",
       "      <td>positive</td>\n",
       "    </tr>\n",
       "    <tr>\n",
       "      <th>...</th>\n",
       "      <td>...</td>\n",
       "      <td>...</td>\n",
       "    </tr>\n",
       "    <tr>\n",
       "      <th>196</th>\n",
       "      <td>Rest in peace mo :(</td>\n",
       "      <td>positive</td>\n",
       "    </tr>\n",
       "    <tr>\n",
       "      <th>197</th>\n",
       "      <td>@MHSScho not much chance of game tonight :( #t...</td>\n",
       "      <td>negative</td>\n",
       "    </tr>\n",
       "    <tr>\n",
       "      <th>198</th>\n",
       "      <td>@OL_EYY ahhh u see? U wouldn't wake up :(</td>\n",
       "      <td>positive</td>\n",
       "    </tr>\n",
       "    <tr>\n",
       "      <th>199</th>\n",
       "      <td>Mumma! Im on 7% :( @LMCDark_Angel</td>\n",
       "      <td>negative</td>\n",
       "    </tr>\n",
       "    <tr>\n",
       "      <th>200</th>\n",
       "      <td>@sarahhardman8 I hope so :(</td>\n",
       "      <td>positive</td>\n",
       "    </tr>\n",
       "  </tbody>\n",
       "</table>\n",
       "<p>201 rows × 2 columns</p>\n",
       "</div>"
      ],
      "text/plain": [
       "                                                  text     label\n",
       "0    @metalgear_jp @Kojima_Hideo I want you're T-sh...  negative\n",
       "1    @AxeRade haw phela if am not looking like Mom ...  negative\n",
       "2    @zaynmalik prince charming on stage :) x https...  negative\n",
       "3                           i have really good luck :)  negative\n",
       "4    Stats for the day have arrived. 1 new follower...  positive\n",
       "..                                                 ...       ...\n",
       "196                                Rest in peace mo :(  positive\n",
       "197  @MHSScho not much chance of game tonight :( #t...  negative\n",
       "198          @OL_EYY ahhh u see? U wouldn't wake up :(  positive\n",
       "199                  Mumma! Im on 7% :( @LMCDark_Angel  negative\n",
       "200                        @sarahhardman8 I hope so :(  positive\n",
       "\n",
       "[201 rows x 2 columns]"
      ]
     },
     "execution_count": 6,
     "metadata": {},
     "output_type": "execute_result"
    }
   ],
   "source": [
    "chatgpt_responses = pd.read_csv(\"gpt.csv\")\n",
    "chatgpt_responses"
   ]
  },
  {
   "cell_type": "code",
   "execution_count": 7,
   "id": "b6fa140e",
   "metadata": {},
   "outputs": [
    {
     "data": {
      "text/plain": [
       "array([0, 0, 0, 0, 1, 1, 0, 1, 1, 1, 1, 1, 1, 1, 1, 1, 0, 1, 1, 1, 1, 1,\n",
       "       0, 1, 1, 0, 1, 0, 0, 0, 0, 0, 0, 1, 1, 0, 1, 0, 0, 0, 0, 0, 0, 0,\n",
       "       1, 1, 1, 1, 0, 1, 0, 0, 1, 1, 1, 1, 0, 1, 1, 0, 0, 1, 1, 1, 1, 0,\n",
       "       1, 0, 0, 1, 1, 1, 1, 1, 1, 0, 0, 1, 1, 1, 1, 1, 1, 1, 1, 1, 1, 1,\n",
       "       1, 1, 1, 1, 0, 0, 1, 1, 1, 0, 1, 1, 0, 0, 0, 0, 0, 1, 0, 1, 1, 0,\n",
       "       0, 0, 0, 0, 0, 0, 0, 0, 0, 0, 1, 0, 0, 1, 0, 0, 1, 0, 1, 1, 0, 0,\n",
       "       0, 0, 0, 1, 1, 1, 0, 0, 0, 0, 0, 1, 0, 0, 0, 0, 0, 0, 0, 1, 0, 0,\n",
       "       0, 1, 0, 1, 1, 1, 1, 0, 0, 1, 0, 1, 0, 0, 1, 0, 0, 0, 0, 0, 1, 0,\n",
       "       0, 0, 0, 0, 0, 0, 1, 0, 0, 1, 1, 0, 0, 1, 0, 1, 1, 0, 0, 0, 1, 0,\n",
       "       1, 0, 1], dtype=int64)"
      ]
     },
     "execution_count": 7,
     "metadata": {},
     "output_type": "execute_result"
    }
   ],
   "source": [
    "gpt_pred = chatgpt_responses['label'].map({'positive': 1, 'negative': 0}).values\n",
    "gpt_pred"
   ]
  },
  {
   "cell_type": "code",
   "execution_count": 8,
   "id": "4d142318",
   "metadata": {},
   "outputs": [
    {
     "data": {
      "text/plain": [
       "True"
      ]
     },
     "execution_count": 8,
     "metadata": {},
     "output_type": "execute_result"
    }
   ],
   "source": [
    "len(y_pred) < len(gpt_pred)"
   ]
  },
  {
   "cell_type": "code",
   "execution_count": 9,
   "id": "2c913351",
   "metadata": {},
   "outputs": [
    {
     "data": {
      "text/plain": [
       "(200, 201)"
      ]
     },
     "execution_count": 9,
     "metadata": {},
     "output_type": "execute_result"
    }
   ],
   "source": [
    "len(y_pred), len(gpt_pred)"
   ]
  },
  {
   "cell_type": "code",
   "execution_count": 24,
   "id": "5cde6bcc",
   "metadata": {},
   "outputs": [
    {
     "data": {
      "text/html": [
       "<div>\n",
       "<style scoped>\n",
       "    .dataframe tbody tr th:only-of-type {\n",
       "        vertical-align: middle;\n",
       "    }\n",
       "\n",
       "    .dataframe tbody tr th {\n",
       "        vertical-align: top;\n",
       "    }\n",
       "\n",
       "    .dataframe thead th {\n",
       "        text-align: right;\n",
       "    }\n",
       "</style>\n",
       "<table border=\"1\" class=\"dataframe\">\n",
       "  <thead>\n",
       "    <tr style=\"text-align: right;\">\n",
       "      <th></th>\n",
       "      <th>tweets</th>\n",
       "      <th>label</th>\n",
       "    </tr>\n",
       "  </thead>\n",
       "  <tbody>\n",
       "    <tr>\n",
       "      <th>0</th>\n",
       "      <td>@metalgear_jp @Kojima_Hideo I want you're T-sh...</td>\n",
       "      <td>negative</td>\n",
       "    </tr>\n",
       "    <tr>\n",
       "      <th>1</th>\n",
       "      <td>@AxeRade haw phela if am not looking like Mom ...</td>\n",
       "      <td>negative</td>\n",
       "    </tr>\n",
       "    <tr>\n",
       "      <th>2</th>\n",
       "      <td>@zaynmalik prince charming on stage :) x https...</td>\n",
       "      <td>negative</td>\n",
       "    </tr>\n",
       "    <tr>\n",
       "      <th>3</th>\n",
       "      <td>i have really good luck :)</td>\n",
       "      <td>negative</td>\n",
       "    </tr>\n",
       "    <tr>\n",
       "      <th>4</th>\n",
       "      <td>Stats for the day have arrived. 1 new follower...</td>\n",
       "      <td>positive</td>\n",
       "    </tr>\n",
       "    <tr>\n",
       "      <th>...</th>\n",
       "      <td>...</td>\n",
       "      <td>...</td>\n",
       "    </tr>\n",
       "    <tr>\n",
       "      <th>195</th>\n",
       "      <td>Rest in peace mo :(</td>\n",
       "      <td>positive</td>\n",
       "    </tr>\n",
       "    <tr>\n",
       "      <th>196</th>\n",
       "      <td>@MHSScho not much chance of game tonight :( #t...</td>\n",
       "      <td>negative</td>\n",
       "    </tr>\n",
       "    <tr>\n",
       "      <th>197</th>\n",
       "      <td>@OL_EYY ahhh u see? U wouldn't wake up :(</td>\n",
       "      <td>positive</td>\n",
       "    </tr>\n",
       "    <tr>\n",
       "      <th>198</th>\n",
       "      <td>Mumma! Im on 7% :( @LMCDark_Angel</td>\n",
       "      <td>negative</td>\n",
       "    </tr>\n",
       "    <tr>\n",
       "      <th>199</th>\n",
       "      <td>@sarahhardman8 I hope so :(</td>\n",
       "      <td>positive</td>\n",
       "    </tr>\n",
       "  </tbody>\n",
       "</table>\n",
       "<p>200 rows × 2 columns</p>\n",
       "</div>"
      ],
      "text/plain": [
       "                                                tweets     label\n",
       "0    @metalgear_jp @Kojima_Hideo I want you're T-sh...  negative\n",
       "1    @AxeRade haw phela if am not looking like Mom ...  negative\n",
       "2    @zaynmalik prince charming on stage :) x https...  negative\n",
       "3                           i have really good luck :)  negative\n",
       "4    Stats for the day have arrived. 1 new follower...  positive\n",
       "..                                                 ...       ...\n",
       "195                                Rest in peace mo :(  positive\n",
       "196  @MHSScho not much chance of game tonight :( #t...  negative\n",
       "197          @OL_EYY ahhh u see? U wouldn't wake up :(  positive\n",
       "198                  Mumma! Im on 7% :( @LMCDark_Angel  negative\n",
       "199                        @sarahhardman8 I hope so :(  positive\n",
       "\n",
       "[200 rows x 2 columns]"
      ]
     },
     "execution_count": 24,
     "metadata": {},
     "output_type": "execute_result"
    }
   ],
   "source": [
    "chatgpt = pd.DataFrame({\n",
    "    \"tweets\": test_tweets\n",
    "})\n",
    "\n",
    "chatgpt = chatgpt.merge(chatgpt_responses[[\"text\", \"label\"]],\n",
    "                        left_on=\"tweets\", right_on=\"text\", how=\"left\")\n",
    "\n",
    "chatgpt = chatgpt.drop(columns=[\"text\"])\n",
    "chatgpt"
   ]
  },
  {
   "cell_type": "code",
   "execution_count": 31,
   "id": "20076deb",
   "metadata": {},
   "outputs": [
    {
     "data": {
      "text/plain": [
       "array([ 0.,  0.,  0.,  0.,  1.,  1.,  0., nan,  1.,  1.,  1.,  1.,  1.,\n",
       "        1.,  1.,  1.,  0., nan, nan,  1.,  1.,  1., nan,  0.,  1.,  1.,\n",
       "        0.,  1.,  0.,  0.,  0.,  0.,  0.,  0.,  1.,  1.,  0.,  1.,  0.,\n",
       "        0.,  0.,  0.,  0., nan,  0.,  1.,  1.,  1.,  1.,  0.,  1.,  0.,\n",
       "        0.,  1.,  1.,  1.,  1.,  0., nan,  1.,  0.,  0.,  1.,  1.,  1.,\n",
       "       nan,  0.,  1.,  0.,  0., nan,  1.,  1.,  1.,  1.,  1.,  0.,  0.,\n",
       "        1.,  1.,  1., nan,  1.,  1.,  1.,  1., nan,  1.,  1.,  1.,  1.,\n",
       "       nan,  0.,  0.,  1.,  1., nan,  0.,  1.,  1.,  0.,  0., nan,  0.,\n",
       "        0.,  1.,  0.,  1.,  1.,  0.,  0.,  0.,  0.,  0.,  0.,  0.,  0.,\n",
       "        0.,  0.,  0.,  1.,  0.,  0.,  1.,  0.,  0.,  1.,  0.,  1.,  1.,\n",
       "        0.,  0.,  0.,  0.,  0.,  1.,  1.,  1.,  0.,  0.,  0.,  0.,  0.,\n",
       "        1.,  0.,  0.,  0.,  0.,  0.,  0.,  0.,  1.,  0.,  0.,  0.,  1.,\n",
       "       nan,  1.,  1.,  1.,  1.,  0.,  0.,  1.,  0.,  1.,  0.,  0.,  1.,\n",
       "        0.,  0., nan,  0.,  0.,  1.,  0., nan,  0.,  0.,  0.,  0.,  1.,\n",
       "        0.,  0.,  1.,  1.,  0.,  0., nan,  0.,  1.,  1., nan,  0.,  0.,\n",
       "        1.,  0.,  1.,  0.,  1.])"
      ]
     },
     "execution_count": 31,
     "metadata": {},
     "output_type": "execute_result"
    }
   ],
   "source": [
    "gpt_pred = chatgpt['label'].map({'positive': 1, 'negative': 0}).values\n",
    "gpt_pred"
   ]
  },
  {
   "cell_type": "markdown",
   "id": "25da51b0",
   "metadata": {},
   "source": [
    "--> there is some missing values , these are mistakes from chatgpt --> we compare the leftovers by dropping the same positions in both arrays"
   ]
  },
  {
   "cell_type": "code",
   "execution_count": null,
   "id": "b44a93b2",
   "metadata": {},
   "outputs": [
    {
     "name": "stdout",
     "output_type": "stream",
     "text": [
      "Accuracy: 77.47% (141/182)\n"
     ]
    }
   ],
   "source": [
    "mask = ~np.isnan(gpt_pred)\n",
    "\n",
    "# filter both arrays\n",
    "gpt_clean = gpt_pred[mask]\n",
    "y_clean   = y_pred[mask]\n",
    "\n",
    "if len(gpt_clean) == len(y_clean):\n",
    "    matches = np.sum(gpt_clean == y_clean)\n",
    "    total = len(gpt_clean)\n",
    "    accuracy = matches / total\n",
    "\n",
    "    print(f\"Accuracy: {accuracy:.2%} ({matches}/{total})\")"
   ]
  },
  {
   "cell_type": "markdown",
   "id": "f03b17a1",
   "metadata": {},
   "source": [
    "# DeepSeek response\n"
   ]
  },
  {
   "cell_type": "code",
   "execution_count": 43,
   "id": "8cb430ca",
   "metadata": {},
   "outputs": [
    {
     "data": {
      "text/html": [
       "<div>\n",
       "<style scoped>\n",
       "    .dataframe tbody tr th:only-of-type {\n",
       "        vertical-align: middle;\n",
       "    }\n",
       "\n",
       "    .dataframe tbody tr th {\n",
       "        vertical-align: top;\n",
       "    }\n",
       "\n",
       "    .dataframe thead th {\n",
       "        text-align: right;\n",
       "    }\n",
       "</style>\n",
       "<table border=\"1\" class=\"dataframe\">\n",
       "  <thead>\n",
       "    <tr style=\"text-align: right;\">\n",
       "      <th></th>\n",
       "      <th>text</th>\n",
       "      <th>label</th>\n",
       "    </tr>\n",
       "  </thead>\n",
       "  <tbody>\n",
       "    <tr>\n",
       "      <th>0</th>\n",
       "      <td>@metalgear_jp @Kojima_Hideo I want you're T-sh...</td>\n",
       "      <td>positive</td>\n",
       "    </tr>\n",
       "    <tr>\n",
       "      <th>1</th>\n",
       "      <td>@AxeRade haw phela if am not looking like Mom ...</td>\n",
       "      <td>positive</td>\n",
       "    </tr>\n",
       "    <tr>\n",
       "      <th>2</th>\n",
       "      <td>@zaynmalik prince charming on stage :) x https...</td>\n",
       "      <td>positive</td>\n",
       "    </tr>\n",
       "    <tr>\n",
       "      <th>3</th>\n",
       "      <td>i have really good luck :)</td>\n",
       "      <td>positive</td>\n",
       "    </tr>\n",
       "    <tr>\n",
       "      <th>4</th>\n",
       "      <td>Stats for the day have arrived. 1 new follower...</td>\n",
       "      <td>positive</td>\n",
       "    </tr>\n",
       "    <tr>\n",
       "      <th>...</th>\n",
       "      <td>...</td>\n",
       "      <td>...</td>\n",
       "    </tr>\n",
       "    <tr>\n",
       "      <th>196</th>\n",
       "      <td>Rest in peace mo :(</td>\n",
       "      <td>negative</td>\n",
       "    </tr>\n",
       "    <tr>\n",
       "      <th>197</th>\n",
       "      <td>@MHSScho not much chance of game tonight :( #t...</td>\n",
       "      <td>negative</td>\n",
       "    </tr>\n",
       "    <tr>\n",
       "      <th>198</th>\n",
       "      <td>@OL_EYY ahhh u see? U wouldn't wake up :(</td>\n",
       "      <td>negative</td>\n",
       "    </tr>\n",
       "    <tr>\n",
       "      <th>199</th>\n",
       "      <td>Mumma! Im on 7% :( @LMCDark_Angel</td>\n",
       "      <td>negative</td>\n",
       "    </tr>\n",
       "    <tr>\n",
       "      <th>200</th>\n",
       "      <td>@sarahhardman8 I hope so :(</td>\n",
       "      <td>negative</td>\n",
       "    </tr>\n",
       "  </tbody>\n",
       "</table>\n",
       "<p>201 rows × 2 columns</p>\n",
       "</div>"
      ],
      "text/plain": [
       "                                                  text     label\n",
       "0    @metalgear_jp @Kojima_Hideo I want you're T-sh...  positive\n",
       "1    @AxeRade haw phela if am not looking like Mom ...  positive\n",
       "2    @zaynmalik prince charming on stage :) x https...  positive\n",
       "3                           i have really good luck :)  positive\n",
       "4    Stats for the day have arrived. 1 new follower...  positive\n",
       "..                                                 ...       ...\n",
       "196                                Rest in peace mo :(  negative\n",
       "197  @MHSScho not much chance of game tonight :( #t...  negative\n",
       "198          @OL_EYY ahhh u see? U wouldn't wake up :(  negative\n",
       "199                  Mumma! Im on 7% :( @LMCDark_Angel  negative\n",
       "200                        @sarahhardman8 I hope so :(  negative\n",
       "\n",
       "[201 rows x 2 columns]"
      ]
     },
     "execution_count": 43,
     "metadata": {},
     "output_type": "execute_result"
    }
   ],
   "source": [
    "deepseek_responses = pd.read_csv(\"deepseek.csv\", sep=\",\", quotechar='\"', on_bad_lines=\"skip\")\n",
    "deepseek_responses"
   ]
  },
  {
   "cell_type": "code",
   "execution_count": 52,
   "id": "712f64a8",
   "metadata": {},
   "outputs": [
    {
     "data": {
      "text/html": [
       "<div>\n",
       "<style scoped>\n",
       "    .dataframe tbody tr th:only-of-type {\n",
       "        vertical-align: middle;\n",
       "    }\n",
       "\n",
       "    .dataframe tbody tr th {\n",
       "        vertical-align: top;\n",
       "    }\n",
       "\n",
       "    .dataframe thead th {\n",
       "        text-align: right;\n",
       "    }\n",
       "</style>\n",
       "<table border=\"1\" class=\"dataframe\">\n",
       "  <thead>\n",
       "    <tr style=\"text-align: right;\">\n",
       "      <th></th>\n",
       "      <th>tweets</th>\n",
       "      <th>label</th>\n",
       "    </tr>\n",
       "  </thead>\n",
       "  <tbody>\n",
       "    <tr>\n",
       "      <th>0</th>\n",
       "      <td>@metalgear_jp @Kojima_Hideo I want you're T-sh...</td>\n",
       "      <td>positive</td>\n",
       "    </tr>\n",
       "    <tr>\n",
       "      <th>1</th>\n",
       "      <td>@AxeRade haw phela if am not looking like Mom ...</td>\n",
       "      <td>positive</td>\n",
       "    </tr>\n",
       "    <tr>\n",
       "      <th>2</th>\n",
       "      <td>@zaynmalik prince charming on stage :) x https...</td>\n",
       "      <td>positive</td>\n",
       "    </tr>\n",
       "    <tr>\n",
       "      <th>3</th>\n",
       "      <td>i have really good luck :)</td>\n",
       "      <td>positive</td>\n",
       "    </tr>\n",
       "    <tr>\n",
       "      <th>4</th>\n",
       "      <td>Stats for the day have arrived. 1 new follower...</td>\n",
       "      <td>positive</td>\n",
       "    </tr>\n",
       "    <tr>\n",
       "      <th>...</th>\n",
       "      <td>...</td>\n",
       "      <td>...</td>\n",
       "    </tr>\n",
       "    <tr>\n",
       "      <th>195</th>\n",
       "      <td>Rest in peace mo :(</td>\n",
       "      <td>negative</td>\n",
       "    </tr>\n",
       "    <tr>\n",
       "      <th>196</th>\n",
       "      <td>@MHSScho not much chance of game tonight :( #t...</td>\n",
       "      <td>negative</td>\n",
       "    </tr>\n",
       "    <tr>\n",
       "      <th>197</th>\n",
       "      <td>@OL_EYY ahhh u see? U wouldn't wake up :(</td>\n",
       "      <td>negative</td>\n",
       "    </tr>\n",
       "    <tr>\n",
       "      <th>198</th>\n",
       "      <td>Mumma! Im on 7% :( @LMCDark_Angel</td>\n",
       "      <td>negative</td>\n",
       "    </tr>\n",
       "    <tr>\n",
       "      <th>199</th>\n",
       "      <td>@sarahhardman8 I hope so :(</td>\n",
       "      <td>negative</td>\n",
       "    </tr>\n",
       "  </tbody>\n",
       "</table>\n",
       "<p>200 rows × 2 columns</p>\n",
       "</div>"
      ],
      "text/plain": [
       "                                                tweets     label\n",
       "0    @metalgear_jp @Kojima_Hideo I want you're T-sh...  positive\n",
       "1    @AxeRade haw phela if am not looking like Mom ...  positive\n",
       "2    @zaynmalik prince charming on stage :) x https...  positive\n",
       "3                           i have really good luck :)  positive\n",
       "4    Stats for the day have arrived. 1 new follower...  positive\n",
       "..                                                 ...       ...\n",
       "195                                Rest in peace mo :(  negative\n",
       "196  @MHSScho not much chance of game tonight :( #t...  negative\n",
       "197          @OL_EYY ahhh u see? U wouldn't wake up :(  negative\n",
       "198                  Mumma! Im on 7% :( @LMCDark_Angel  negative\n",
       "199                        @sarahhardman8 I hope so :(  negative\n",
       "\n",
       "[200 rows x 2 columns]"
      ]
     },
     "execution_count": 52,
     "metadata": {},
     "output_type": "execute_result"
    }
   ],
   "source": [
    "deepseek = pd.DataFrame({\n",
    "    \"tweets\": test_tweets\n",
    "})\n",
    "\n",
    "deepseek = deepseek.merge(deepseek_responses[[\"text\", \"label\"]],\n",
    "                        left_on=\"tweets\", right_on=\"text\", how=\"left\")\n",
    "\n",
    "deepseek = deepseek.drop(columns=[\"text\"])\n",
    "deepseek"
   ]
  },
  {
   "cell_type": "code",
   "execution_count": 53,
   "id": "c504ae11",
   "metadata": {},
   "outputs": [
    {
     "data": {
      "text/plain": [
       "array([ 1.,  1.,  1.,  1.,  1.,  1.,  1.,  1.,  1.,  1.,  1.,  1.,  1.,\n",
       "        1.,  1.,  1.,  1., nan, nan,  1.,  1.,  1.,  1.,  1.,  1.,  1.,\n",
       "        1.,  1.,  1.,  1.,  1.,  1.,  1.,  1.,  1.,  1.,  1.,  1.,  1.,\n",
       "        1.,  1.,  1.,  1.,  1.,  1.,  1.,  1.,  1.,  1.,  1.,  1.,  1.,\n",
       "        1.,  1.,  1.,  1.,  1.,  1., nan, nan,  1.,  1.,  1.,  1.,  1.,\n",
       "        1.,  1.,  1.,  1.,  1.,  1.,  1.,  1.,  1.,  1.,  1.,  1.,  1.,\n",
       "        1.,  1.,  1., nan,  1.,  1.,  1.,  1., nan,  1.,  1.,  1.,  1.,\n",
       "       nan,  1.,  1.,  1.,  1.,  1.,  1.,  1., nan,  0.,  0., nan,  0.,\n",
       "        0.,  0.,  0.,  0.,  0.,  0.,  0.,  0.,  0.,  0.,  0.,  0.,  0.,\n",
       "        0.,  0.,  0.,  0.,  0.,  0.,  0.,  0.,  0.,  0.,  0.,  0.,  0.,\n",
       "        0.,  0.,  0.,  0.,  0.,  0.,  0.,  0.,  0.,  0.,  0.,  0.,  0.,\n",
       "        0.,  0.,  0.,  0.,  0.,  0., nan,  0.,  0.,  0.,  0.,  0.,  0.,\n",
       "        0., nan,  0.,  0.,  0.,  0.,  0.,  0.,  0.,  0., nan,  0.,  0.,\n",
       "        0.,  0., nan,  0.,  0.,  0.,  0., nan,  0.,  0.,  0.,  0.,  0.,\n",
       "        0.,  0.,  0.,  0.,  0.,  0.,  0.,  0.,  0.,  0.,  0.,  0.,  0.,\n",
       "        0.,  0.,  0.,  0.,  0.])"
      ]
     },
     "execution_count": 53,
     "metadata": {},
     "output_type": "execute_result"
    }
   ],
   "source": [
    "deepseek_pred = deepseek['label'].map({'positive': 1, 'negative': 0}).values\n",
    "deepseek_pred"
   ]
  },
  {
   "cell_type": "markdown",
   "id": "41a6e32d",
   "metadata": {},
   "source": [
    "that was the same issues happened with chatGPT -- > solve it the same way"
   ]
  },
  {
   "cell_type": "code",
   "execution_count": null,
   "id": "8d9c40d5",
   "metadata": {},
   "outputs": [
    {
     "name": "stdout",
     "output_type": "stream",
     "text": [
      "Accuracy: 66.67% (124/186)\n"
     ]
    }
   ],
   "source": [
    "mask = np.isnan(deepseek_pred)\n",
    "\n",
    "# filter both arrays\n",
    "deepseek_clean = deepseek_pred[mask]\n",
    "y_clean   = y_pred[mask]\n",
    "\n",
    "if len(deepseek_clean) == len(y_clean):\n",
    "    matches = np.sum(deepseek_clean == y_clean)\n",
    "    total = len(deepseek_clean)\n",
    "    accuracy = matches / total\n",
    "\n",
    "    print(f\"Accuracy: {accuracy:.2%} ({matches}/{total})\")"
   ]
  },
  {
   "cell_type": "markdown",
   "id": "2e203c24",
   "metadata": {},
   "source": [
    "# Grok Response"
   ]
  },
  {
   "cell_type": "code",
   "execution_count": 51,
   "id": "fc46218d",
   "metadata": {},
   "outputs": [
    {
     "data": {
      "text/html": [
       "<div>\n",
       "<style scoped>\n",
       "    .dataframe tbody tr th:only-of-type {\n",
       "        vertical-align: middle;\n",
       "    }\n",
       "\n",
       "    .dataframe tbody tr th {\n",
       "        vertical-align: top;\n",
       "    }\n",
       "\n",
       "    .dataframe thead th {\n",
       "        text-align: right;\n",
       "    }\n",
       "</style>\n",
       "<table border=\"1\" class=\"dataframe\">\n",
       "  <thead>\n",
       "    <tr style=\"text-align: right;\">\n",
       "      <th></th>\n",
       "      <th>text</th>\n",
       "      <th>label</th>\n",
       "    </tr>\n",
       "  </thead>\n",
       "  <tbody>\n",
       "    <tr>\n",
       "      <th>0</th>\n",
       "      <td>@metalgear_jp @Kojima_Hideo I want you're T-sh...</td>\n",
       "      <td>positive</td>\n",
       "    </tr>\n",
       "    <tr>\n",
       "      <th>1</th>\n",
       "      <td>@AxeRade haw phela if am not looking like Mom ...</td>\n",
       "      <td>positive</td>\n",
       "    </tr>\n",
       "    <tr>\n",
       "      <th>2</th>\n",
       "      <td>@zaynmalik prince charming on stage :) x https...</td>\n",
       "      <td>positive</td>\n",
       "    </tr>\n",
       "    <tr>\n",
       "      <th>3</th>\n",
       "      <td>i have really good luck :)</td>\n",
       "      <td>positive</td>\n",
       "    </tr>\n",
       "    <tr>\n",
       "      <th>4</th>\n",
       "      <td>Stats for the day have arrived. 1 new follower...</td>\n",
       "      <td>positive</td>\n",
       "    </tr>\n",
       "    <tr>\n",
       "      <th>...</th>\n",
       "      <td>...</td>\n",
       "      <td>...</td>\n",
       "    </tr>\n",
       "    <tr>\n",
       "      <th>194</th>\n",
       "      <td>Rest in peace mo :(</td>\n",
       "      <td>negative</td>\n",
       "    </tr>\n",
       "    <tr>\n",
       "      <th>195</th>\n",
       "      <td>@MHSScho not much chance of game tonight :( #t...</td>\n",
       "      <td>negative</td>\n",
       "    </tr>\n",
       "    <tr>\n",
       "      <th>196</th>\n",
       "      <td>@OL_EYY ahhh u see? U wouldn't wake up :(</td>\n",
       "      <td>negative</td>\n",
       "    </tr>\n",
       "    <tr>\n",
       "      <th>197</th>\n",
       "      <td>Mumma! Im on 7% :( @LMCDark_Angel</td>\n",
       "      <td>negative</td>\n",
       "    </tr>\n",
       "    <tr>\n",
       "      <th>198</th>\n",
       "      <td>@sarahhardman8 I hope so :(</td>\n",
       "      <td>negative</td>\n",
       "    </tr>\n",
       "  </tbody>\n",
       "</table>\n",
       "<p>199 rows × 2 columns</p>\n",
       "</div>"
      ],
      "text/plain": [
       "                                                  text     label\n",
       "0    @metalgear_jp @Kojima_Hideo I want you're T-sh...  positive\n",
       "1    @AxeRade haw phela if am not looking like Mom ...  positive\n",
       "2    @zaynmalik prince charming on stage :) x https...  positive\n",
       "3                           i have really good luck :)  positive\n",
       "4    Stats for the day have arrived. 1 new follower...  positive\n",
       "..                                                 ...       ...\n",
       "194                                Rest in peace mo :(  negative\n",
       "195  @MHSScho not much chance of game tonight :( #t...  negative\n",
       "196          @OL_EYY ahhh u see? U wouldn't wake up :(  negative\n",
       "197                  Mumma! Im on 7% :( @LMCDark_Angel  negative\n",
       "198                        @sarahhardman8 I hope so :(  negative\n",
       "\n",
       "[199 rows x 2 columns]"
      ]
     },
     "execution_count": 51,
     "metadata": {},
     "output_type": "execute_result"
    }
   ],
   "source": [
    "grok_responses = pd.read_csv(\"grok.csv\", sep=\",\", quotechar='\"', on_bad_lines=\"skip\")\n",
    "grok_responses"
   ]
  },
  {
   "cell_type": "code",
   "execution_count": 55,
   "id": "c4b343ba",
   "metadata": {},
   "outputs": [
    {
     "data": {
      "text/html": [
       "<div>\n",
       "<style scoped>\n",
       "    .dataframe tbody tr th:only-of-type {\n",
       "        vertical-align: middle;\n",
       "    }\n",
       "\n",
       "    .dataframe tbody tr th {\n",
       "        vertical-align: top;\n",
       "    }\n",
       "\n",
       "    .dataframe thead th {\n",
       "        text-align: right;\n",
       "    }\n",
       "</style>\n",
       "<table border=\"1\" class=\"dataframe\">\n",
       "  <thead>\n",
       "    <tr style=\"text-align: right;\">\n",
       "      <th></th>\n",
       "      <th>tweets</th>\n",
       "      <th>label</th>\n",
       "    </tr>\n",
       "  </thead>\n",
       "  <tbody>\n",
       "    <tr>\n",
       "      <th>0</th>\n",
       "      <td>@metalgear_jp @Kojima_Hideo I want you're T-sh...</td>\n",
       "      <td>positive</td>\n",
       "    </tr>\n",
       "    <tr>\n",
       "      <th>1</th>\n",
       "      <td>@AxeRade haw phela if am not looking like Mom ...</td>\n",
       "      <td>positive</td>\n",
       "    </tr>\n",
       "    <tr>\n",
       "      <th>2</th>\n",
       "      <td>@zaynmalik prince charming on stage :) x https...</td>\n",
       "      <td>positive</td>\n",
       "    </tr>\n",
       "    <tr>\n",
       "      <th>3</th>\n",
       "      <td>i have really good luck :)</td>\n",
       "      <td>positive</td>\n",
       "    </tr>\n",
       "    <tr>\n",
       "      <th>4</th>\n",
       "      <td>Stats for the day have arrived. 1 new follower...</td>\n",
       "      <td>positive</td>\n",
       "    </tr>\n",
       "    <tr>\n",
       "      <th>...</th>\n",
       "      <td>...</td>\n",
       "      <td>...</td>\n",
       "    </tr>\n",
       "    <tr>\n",
       "      <th>195</th>\n",
       "      <td>Rest in peace mo :(</td>\n",
       "      <td>negative</td>\n",
       "    </tr>\n",
       "    <tr>\n",
       "      <th>196</th>\n",
       "      <td>@MHSScho not much chance of game tonight :( #t...</td>\n",
       "      <td>negative</td>\n",
       "    </tr>\n",
       "    <tr>\n",
       "      <th>197</th>\n",
       "      <td>@OL_EYY ahhh u see? U wouldn't wake up :(</td>\n",
       "      <td>negative</td>\n",
       "    </tr>\n",
       "    <tr>\n",
       "      <th>198</th>\n",
       "      <td>Mumma! Im on 7% :( @LMCDark_Angel</td>\n",
       "      <td>negative</td>\n",
       "    </tr>\n",
       "    <tr>\n",
       "      <th>199</th>\n",
       "      <td>@sarahhardman8 I hope so :(</td>\n",
       "      <td>negative</td>\n",
       "    </tr>\n",
       "  </tbody>\n",
       "</table>\n",
       "<p>200 rows × 2 columns</p>\n",
       "</div>"
      ],
      "text/plain": [
       "                                                tweets     label\n",
       "0    @metalgear_jp @Kojima_Hideo I want you're T-sh...  positive\n",
       "1    @AxeRade haw phela if am not looking like Mom ...  positive\n",
       "2    @zaynmalik prince charming on stage :) x https...  positive\n",
       "3                           i have really good luck :)  positive\n",
       "4    Stats for the day have arrived. 1 new follower...  positive\n",
       "..                                                 ...       ...\n",
       "195                                Rest in peace mo :(  negative\n",
       "196  @MHSScho not much chance of game tonight :( #t...  negative\n",
       "197          @OL_EYY ahhh u see? U wouldn't wake up :(  negative\n",
       "198                  Mumma! Im on 7% :( @LMCDark_Angel  negative\n",
       "199                        @sarahhardman8 I hope so :(  negative\n",
       "\n",
       "[200 rows x 2 columns]"
      ]
     },
     "execution_count": 55,
     "metadata": {},
     "output_type": "execute_result"
    }
   ],
   "source": [
    "grok = pd.DataFrame({\n",
    "    \"tweets\": test_tweets\n",
    "})  \n",
    "\n",
    "grok = grok.merge(grok_responses[[\"text\", \"label\"]],\n",
    "                        left_on=\"tweets\", right_on=\"text\", how=\"left\")\n",
    "\n",
    "grok = grok.drop(columns=[\"text\"])\n",
    "grok"
   ]
  },
  {
   "cell_type": "code",
   "execution_count": 56,
   "id": "6f5dc007",
   "metadata": {},
   "outputs": [
    {
     "data": {
      "text/plain": [
       "array([ 1.,  1.,  1.,  1.,  1.,  1.,  1., nan,  1.,  1.,  1.,  1.,  1.,\n",
       "        1.,  1.,  1.,  1., nan, nan,  1., nan,  1., nan,  1.,  1.,  0.,\n",
       "        1.,  1.,  1.,  1.,  1.,  1.,  1.,  1.,  1.,  1.,  1.,  1.,  1.,\n",
       "        1.,  1.,  1.,  1., nan,  1.,  1.,  1., nan,  1.,  1., nan,  1.,\n",
       "        1.,  1.,  1.,  1.,  1.,  1., nan, nan,  1.,  1., nan,  1.,  1.,\n",
       "       nan,  1.,  1.,  1.,  1., nan,  1.,  1.,  1.,  1.,  1.,  1.,  1.,\n",
       "        1.,  1.,  1., nan,  1., nan,  1.,  1., nan,  1.,  1.,  1.,  1.,\n",
       "       nan,  1.,  1.,  1.,  1., nan,  1.,  1., nan,  0.,  0.,  0.,  0.,\n",
       "        0.,  0.,  0.,  0.,  0.,  0.,  0.,  0.,  0.,  0.,  0.,  0.,  0.,\n",
       "        0.,  0.,  0.,  0.,  0.,  0.,  0.,  0.,  0.,  0.,  0.,  0.,  0.,\n",
       "        0.,  0.,  0.,  0.,  0.,  0.,  0.,  0.,  0.,  0.,  0.,  0.,  0.,\n",
       "        0.,  0.,  0.,  0.,  0.,  0., nan,  0.,  0.,  0.,  0., nan,  0.,\n",
       "       nan, nan,  0.,  0.,  0.,  0.,  0.,  0.,  0.,  0., nan,  0.,  0.,\n",
       "        0.,  0., nan,  0.,  0.,  0.,  0., nan,  0.,  0.,  0.,  0.,  0.,\n",
       "        0.,  0., nan,  0.,  0.,  0., nan,  0.,  0.,  0., nan,  0.,  0.,\n",
       "        0.,  0.,  0.,  0.,  0.])"
      ]
     },
     "execution_count": 56,
     "metadata": {},
     "output_type": "execute_result"
    }
   ],
   "source": [
    "grok_pred = grok['label'].map({'positive': 1, 'negative': 0}).values\n",
    "grok_pred"
   ]
  },
  {
   "cell_type": "code",
   "execution_count": 57,
   "id": "3de2f66f",
   "metadata": {},
   "outputs": [
    {
     "name": "stdout",
     "output_type": "stream",
     "text": [
      "Accuracy: 66.67% (114/171)\n"
     ]
    }
   ],
   "source": [
    "mask = ~np.isnan(grok_pred)\n",
    "# filter both arrays\n",
    "grok_clean = grok_pred[mask]    \n",
    "y_clean   = y_pred[mask]\n",
    "\n",
    "if len(grok_clean) == len(y_clean):\n",
    "    matches = np.sum(grok_clean == y_clean)\n",
    "    total = len(grok_clean)\n",
    "    accuracy = matches / total\n",
    "\n",
    "    print(f\"Accuracy: {accuracy:.2%} ({matches}/{total})\")"
   ]
  }
 ],
 "metadata": {
  "kernelspec": {
   "display_name": "Python 3",
   "language": "python",
   "name": "python3"
  },
  "language_info": {
   "codemirror_mode": {
    "name": "ipython",
    "version": 3
   },
   "file_extension": ".py",
   "mimetype": "text/x-python",
   "name": "python",
   "nbconvert_exporter": "python",
   "pygments_lexer": "ipython3",
   "version": "3.12.5"
  }
 },
 "nbformat": 4,
 "nbformat_minor": 5
}
